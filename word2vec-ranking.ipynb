{
 "cells": [
  {
   "cell_type": "code",
   "execution_count": 1,
   "id": "7cb932b7",
   "metadata": {
    "_cell_guid": "b1076dfc-b9ad-4769-8c92-a6c4dae69d19",
    "_uuid": "8f2839f25d086af736a60e9eeb907d3b93b6e0e5",
    "execution": {
     "iopub.execute_input": "2022-12-13T22:28:59.809387Z",
     "iopub.status.busy": "2022-12-13T22:28:59.808557Z",
     "iopub.status.idle": "2022-12-13T22:29:12.665422Z",
     "shell.execute_reply": "2022-12-13T22:29:12.663973Z"
    },
    "papermill": {
     "duration": 12.867367,
     "end_time": "2022-12-13T22:29:12.668824",
     "exception": false,
     "start_time": "2022-12-13T22:28:59.801457",
     "status": "completed"
    },
    "tags": []
   },
   "outputs": [
    {
     "name": "stdout",
     "output_type": "stream",
     "text": [
      "Collecting rank_bm25\r\n",
      "  Downloading rank_bm25-0.2.2-py3-none-any.whl (8.6 kB)\r\n",
      "Requirement already satisfied: numpy in /opt/conda/lib/python3.7/site-packages (from rank_bm25) (1.21.6)\r\n",
      "Installing collected packages: rank_bm25\r\n",
      "Successfully installed rank_bm25-0.2.2\r\n",
      "\u001b[33mWARNING: Running pip as the 'root' user can result in broken permissions and conflicting behaviour with the system package manager. It is recommended to use a virtual environment instead: https://pip.pypa.io/warnings/venv\u001b[0m\u001b[33m\r\n",
      "\u001b[0m/kaggle/input/trec-covid/trec-covid/queries.jsonl\n",
      "/kaggle/input/trec-covid/trec-covid/corpus.jsonl\n",
      "/kaggle/input/trec-covid/trec-covid/qrels/test.tsv\n"
     ]
    }
   ],
   "source": [
    "!pip install rank_bm25\n",
    "\n",
    "import numpy as np # linear algebra\n",
    "import pandas as pd # data processing, CSV file I/O (e.g. pd.read_csv)\n",
    "\n",
    "# Input data files are available in the read-only \"../input/\" directory\n",
    "# For example, running this (by clicking run or pressing Shift+Enter) will list all files under the input directory\n",
    "\n",
    "import os\n",
    "for dirname, _, filenames in os.walk('/kaggle/input'):\n",
    "    for filename in filenames:\n",
    "        print(os.path.join(dirname, filename))\n",
    "\n",
    "# You can write up to 20GB to the current directory (/kaggle/working/) that gets preserved as output when you create a version using \"Save & Run All\" \n",
    "# You can also write temporary files to /kaggle/temp/, but they won't be saved outside of the current session"
   ]
  },
  {
   "cell_type": "code",
   "execution_count": 2,
   "id": "420c3efd",
   "metadata": {
    "execution": {
     "iopub.execute_input": "2022-12-13T22:29:12.681110Z",
     "iopub.status.busy": "2022-12-13T22:29:12.680667Z",
     "iopub.status.idle": "2022-12-13T22:29:16.806366Z",
     "shell.execute_reply": "2022-12-13T22:29:16.805221Z"
    },
    "papermill": {
     "duration": 4.134213,
     "end_time": "2022-12-13T22:29:16.808570",
     "exception": false,
     "start_time": "2022-12-13T22:29:12.674357",
     "status": "completed"
    },
    "tags": []
   },
   "outputs": [
    {
     "name": "stdout",
     "output_type": "stream",
     "text": [
      "/kaggle/input/trec-covid/trec-covid/queries.jsonl\n",
      "/kaggle/input/trec-covid/trec-covid/corpus.jsonl\n",
      "/kaggle/input/trec-covid/trec-covid/qrels/test.tsv\n"
     ]
    }
   ],
   "source": [
    "import re\n",
    "import numpy as np # linear algebra\n",
    "import pandas as pd # data processing, CSV file I/O (e.g. pd.read_csv)\n",
    "import dask.dataframe as dd\n",
    "import rank_bm25\n",
    "from sklearn.metrics.pairwise import cosine_similarity\n",
    "from rank_bm25 import BM25Okapi\n",
    "# Input data files are available in the read-only \"../input/\" directory\n",
    "# For example, running this (by clicking run or pressing Shift+Enter) will list all files under the input directory\n",
    "\n",
    "import os\n",
    "for dirname, _, filenames in os.walk('/kaggle/input'):\n",
    "    for filename in filenames:\n",
    "        print(os.path.join(dirname, filename))"
   ]
  },
  {
   "cell_type": "code",
   "execution_count": 3,
   "id": "7b6f0282",
   "metadata": {
    "execution": {
     "iopub.execute_input": "2022-12-13T22:29:16.823541Z",
     "iopub.status.busy": "2022-12-13T22:29:16.822916Z",
     "iopub.status.idle": "2022-12-13T22:29:21.722859Z",
     "shell.execute_reply": "2022-12-13T22:29:21.721855Z"
    },
    "papermill": {
     "duration": 4.90982,
     "end_time": "2022-12-13T22:29:21.725293",
     "exception": false,
     "start_time": "2022-12-13T22:29:16.815473",
     "status": "completed"
    },
    "tags": []
   },
   "outputs": [],
   "source": [
    "corpus = pd.read_json('/kaggle/input/trec-covid/trec-covid/corpus.jsonl',lines=True)\n",
    "queries = pd.read_json('/kaggle/input/trec-covid/trec-covid/queries.jsonl',lines=True)\n",
    "corpus=corpus.drop(columns='metadata')\n",
    "queries=queries.drop(columns='metadata')\n",
    "\n",
    "\n",
    "corpus_train = corpus.loc[0:128498]\n",
    "corpus_test = corpus.loc[128499:]\n",
    "\n",
    "# corpus_train = corpus.loc[0:1999]\n",
    "# corpus_test = corpus.loc[1999:4000]\n",
    "\n",
    "# queries_train = queries.loc[0:36]\n",
    "# queries_test = queries.loc[37:]\n",
    "\n",
    "queries_train = queries.loc[0:36]\n",
    "queries_test = queries.loc[37:]"
   ]
  },
  {
   "cell_type": "code",
   "execution_count": 4,
   "id": "afdd7a93",
   "metadata": {
    "execution": {
     "iopub.execute_input": "2022-12-13T22:29:21.736323Z",
     "iopub.status.busy": "2022-12-13T22:29:21.736029Z",
     "iopub.status.idle": "2022-12-13T22:29:21.752701Z",
     "shell.execute_reply": "2022-12-13T22:29:21.751673Z"
    },
    "papermill": {
     "duration": 0.024564,
     "end_time": "2022-12-13T22:29:21.754829",
     "exception": false,
     "start_time": "2022-12-13T22:29:21.730265",
     "status": "completed"
    },
    "tags": []
   },
   "outputs": [
    {
     "data": {
      "text/html": [
       "<div>\n",
       "<style scoped>\n",
       "    .dataframe tbody tr th:only-of-type {\n",
       "        vertical-align: middle;\n",
       "    }\n",
       "\n",
       "    .dataframe tbody tr th {\n",
       "        vertical-align: top;\n",
       "    }\n",
       "\n",
       "    .dataframe thead th {\n",
       "        text-align: right;\n",
       "    }\n",
       "</style>\n",
       "<table border=\"1\" class=\"dataframe\">\n",
       "  <thead>\n",
       "    <tr style=\"text-align: right;\">\n",
       "      <th></th>\n",
       "      <th>_id</th>\n",
       "      <th>title</th>\n",
       "      <th>text</th>\n",
       "    </tr>\n",
       "  </thead>\n",
       "  <tbody>\n",
       "    <tr>\n",
       "      <th>128499</th>\n",
       "      <td>wwg6x1df</td>\n",
       "      <td>Clinical characteristics and prognosis in canc...</td>\n",
       "      <td>• We describe the demographics, clinical chara...</td>\n",
       "    </tr>\n",
       "    <tr>\n",
       "      <th>128500</th>\n",
       "      <td>3u01pn66</td>\n",
       "      <td>Humoral immunity to human metapneumovirus infe...</td>\n",
       "      <td>Human metapneumovirus (hMPV) is a significant ...</td>\n",
       "    </tr>\n",
       "    <tr>\n",
       "      <th>128501</th>\n",
       "      <td>aoiibz89</td>\n",
       "      <td>Respiratory Viral Infections after Hematopoiet...</td>\n",
       "      <td>This study was performed to characterize respi...</td>\n",
       "    </tr>\n",
       "    <tr>\n",
       "      <th>128502</th>\n",
       "      <td>5zi1i54p</td>\n",
       "      <td>Epitope Addition and Ablation via Manipulation...</td>\n",
       "      <td>Despite the clinical relevance, dengue virus (...</td>\n",
       "    </tr>\n",
       "    <tr>\n",
       "      <th>128503</th>\n",
       "      <td>7upcsmg4</td>\n",
       "      <td>COVID‐19 and dermatologic surgery: hazards of ...</td>\n",
       "      <td></td>\n",
       "    </tr>\n",
       "    <tr>\n",
       "      <th>128504</th>\n",
       "      <td>rknygv7u</td>\n",
       "      <td>ASTHO at 75: Celebrating the Past and Preparin...</td>\n",
       "      <td></td>\n",
       "    </tr>\n",
       "    <tr>\n",
       "      <th>128505</th>\n",
       "      <td>7ctp8bem</td>\n",
       "      <td>A multicenter surveillance of antimicrobial re...</td>\n",
       "      <td>Background Serratia marcescens is an important...</td>\n",
       "    </tr>\n",
       "    <tr>\n",
       "      <th>128506</th>\n",
       "      <td>f5qg7vcz</td>\n",
       "      <td>COVID-19 complicated by Acute Pulmonary Emboli...</td>\n",
       "      <td>Abstract A patient with Coronavirus Disease-20...</td>\n",
       "    </tr>\n",
       "    <tr>\n",
       "      <th>128507</th>\n",
       "      <td>nrhq7lqg</td>\n",
       "      <td>Bayesian Monitoring of Emerging Infectious Dis...</td>\n",
       "      <td>We define data analyses to monitor a change in...</td>\n",
       "    </tr>\n",
       "    <tr>\n",
       "      <th>128508</th>\n",
       "      <td>yql6gpd3</td>\n",
       "      <td>Tracking the Origin and Deciphering the Phylog...</td>\n",
       "      <td>In 2010, new Chinese strains of porcine epidem...</td>\n",
       "    </tr>\n",
       "  </tbody>\n",
       "</table>\n",
       "</div>"
      ],
      "text/plain": [
       "             _id                                              title  \\\n",
       "128499  wwg6x1df  Clinical characteristics and prognosis in canc...   \n",
       "128500  3u01pn66  Humoral immunity to human metapneumovirus infe...   \n",
       "128501  aoiibz89  Respiratory Viral Infections after Hematopoiet...   \n",
       "128502  5zi1i54p  Epitope Addition and Ablation via Manipulation...   \n",
       "128503  7upcsmg4  COVID‐19 and dermatologic surgery: hazards of ...   \n",
       "128504  rknygv7u  ASTHO at 75: Celebrating the Past and Preparin...   \n",
       "128505  7ctp8bem  A multicenter surveillance of antimicrobial re...   \n",
       "128506  f5qg7vcz  COVID-19 complicated by Acute Pulmonary Emboli...   \n",
       "128507  nrhq7lqg  Bayesian Monitoring of Emerging Infectious Dis...   \n",
       "128508  yql6gpd3  Tracking the Origin and Deciphering the Phylog...   \n",
       "\n",
       "                                                     text  \n",
       "128499  • We describe the demographics, clinical chara...  \n",
       "128500  Human metapneumovirus (hMPV) is a significant ...  \n",
       "128501  This study was performed to characterize respi...  \n",
       "128502  Despite the clinical relevance, dengue virus (...  \n",
       "128503                                                     \n",
       "128504                                                     \n",
       "128505  Background Serratia marcescens is an important...  \n",
       "128506  Abstract A patient with Coronavirus Disease-20...  \n",
       "128507  We define data analyses to monitor a change in...  \n",
       "128508  In 2010, new Chinese strains of porcine epidem...  "
      ]
     },
     "execution_count": 4,
     "metadata": {},
     "output_type": "execute_result"
    }
   ],
   "source": [
    "corpus_test.head(10)"
   ]
  },
  {
   "cell_type": "code",
   "execution_count": 5,
   "id": "8b95aabb",
   "metadata": {
    "execution": {
     "iopub.execute_input": "2022-12-13T22:29:21.767344Z",
     "iopub.status.busy": "2022-12-13T22:29:21.765737Z",
     "iopub.status.idle": "2022-12-13T22:29:22.191796Z",
     "shell.execute_reply": "2022-12-13T22:29:22.190629Z"
    },
    "papermill": {
     "duration": 0.435442,
     "end_time": "2022-12-13T22:29:22.195178",
     "exception": false,
     "start_time": "2022-12-13T22:29:21.759736",
     "status": "completed"
    },
    "tags": []
   },
   "outputs": [
    {
     "name": "stderr",
     "output_type": "stream",
     "text": [
      "/opt/conda/lib/python3.7/site-packages/ipykernel_launcher.py:1: SettingWithCopyWarning: \n",
      "A value is trying to be set on a copy of a slice from a DataFrame.\n",
      "Try using .loc[row_indexer,col_indexer] = value instead\n",
      "\n",
      "See the caveats in the documentation: https://pandas.pydata.org/pandas-docs/stable/user_guide/indexing.html#returning-a-view-versus-a-copy\n",
      "  \"\"\"Entry point for launching an IPython kernel.\n",
      "/opt/conda/lib/python3.7/site-packages/ipykernel_launcher.py:2: SettingWithCopyWarning: \n",
      "A value is trying to be set on a copy of a slice from a DataFrame.\n",
      "Try using .loc[row_indexer,col_indexer] = value instead\n",
      "\n",
      "See the caveats in the documentation: https://pandas.pydata.org/pandas-docs/stable/user_guide/indexing.html#returning-a-view-versus-a-copy\n",
      "  \n",
      "/opt/conda/lib/python3.7/site-packages/ipykernel_launcher.py:4: SettingWithCopyWarning: \n",
      "A value is trying to be set on a copy of a slice from a DataFrame.\n",
      "Try using .loc[row_indexer,col_indexer] = value instead\n",
      "\n",
      "See the caveats in the documentation: https://pandas.pydata.org/pandas-docs/stable/user_guide/indexing.html#returning-a-view-versus-a-copy\n",
      "  after removing the cwd from sys.path.\n",
      "/opt/conda/lib/python3.7/site-packages/ipykernel_launcher.py:5: SettingWithCopyWarning: \n",
      "A value is trying to be set on a copy of a slice from a DataFrame.\n",
      "Try using .loc[row_indexer,col_indexer] = value instead\n",
      "\n",
      "See the caveats in the documentation: https://pandas.pydata.org/pandas-docs/stable/user_guide/indexing.html#returning-a-view-versus-a-copy\n",
      "  \"\"\"\n"
     ]
    }
   ],
   "source": [
    "corpus_train['cleaned']= corpus_train['text'].apply(lambda x:x.lower())\n",
    "corpus_test['cleaned']= corpus_test['text'].apply(lambda x:x.lower())\n",
    "\n",
    "queries_train['cleaned']= queries_train['text'].apply(lambda x:x.lower())\n",
    "queries_test['cleaned']= queries_test['text'].apply(lambda x:x.lower())"
   ]
  },
  {
   "cell_type": "code",
   "execution_count": 6,
   "id": "e582d3f9",
   "metadata": {
    "execution": {
     "iopub.execute_input": "2022-12-13T22:29:22.212243Z",
     "iopub.status.busy": "2022-12-13T22:29:22.211842Z",
     "iopub.status.idle": "2022-12-13T22:29:22.229005Z",
     "shell.execute_reply": "2022-12-13T22:29:22.228126Z"
    },
    "papermill": {
     "duration": 0.027998,
     "end_time": "2022-12-13T22:29:22.231448",
     "exception": false,
     "start_time": "2022-12-13T22:29:22.203450",
     "status": "completed"
    },
    "tags": []
   },
   "outputs": [],
   "source": [
    "contractions_dict = { \"ain't\": \"are not\",\"'s\":\" is\",\"aren't\": \"are not\",\"can't\": \"can not\",\"can't've\": \"cannot have\",\n",
    "\"'cause\": \"because\",\"could've\": \"could have\",\"couldn't\": \"could not\",\"couldn't've\": \"could not have\",\n",
    "\"didn't\": \"did not\",\"doesn't\": \"does not\",\"don't\": \"do not\",\"hadn't\": \"had not\",\"hadn't've\": \"had not have\",\n",
    "\"hasn't\": \"has not\",\"haven't\": \"have not\",\"he'd\": \"he would\",\"he'd've\": \"he would have\",\"he'll\": \"he will\",\n",
    "\"he'll've\": \"he will have\",\"how'd\": \"how did\",\"how'd'y\": \"how do you\",\"how'll\": \"how will\",\"i'd\": \"i would\",\n",
    "\"i'd've\": \"i would have\",\"i'll\": \"i will\",\"i'll've\": \"i will have\",\"i'm\": \"i am\",\"i've\": \"i have\",\n",
    "\"isn't\": \"is not\",\"it'd\": \"it would\",\"it'd've\": \"it would have\",\"it'll\": \"it will\",\"it'll've\": \"it will have\",\n",
    "\"let's\": \"let us\",\"ma'am\": \"madam\",\"mayn't\": \"may not\",\"might've\": \"might have\",\"mightn't\": \"might not\",\n",
    "\"mightn't've\": \"might not have\",\"must've\": \"must have\",\"mustn't\": \"must not\",\"mustn't've\": \"must not have\",\n",
    "\"needn't\": \"need not\",\"needn't've\": \"need not have\",\"o'clock\": \"of the clock\",\"oughtn't\": \"ought not\",\n",
    "\"oughtn't've\": \"ought not have\",\"shan't\": \"shall not\",\"sha'n't\": \"shall not\",\n",
    "\"shan't've\": \"shall not have\",\"she'd\": \"she would\",\"she'd've\": \"she would have\",\"she'll\": \"she will\",\n",
    "\"she'll've\": \"she will have\",\"should've\": \"should have\",\"shouldn't\": \"should not\",\n",
    "\"shouldn't've\": \"should not have\",\"so've\": \"so have\",\"that'd\": \"that would\",\"that'd've\": \"that would have\",\n",
    "\"there'd\": \"there would\",\"there'd've\": \"there would have\",\n",
    "\"they'd\": \"they would\",\"they'd've\": \"they would have\",\"they'll\": \"they will\",\"they'll've\": \"they will have\",\n",
    "\"they're\": \"they are\",\"they've\": \"they have\",\"to've\": \"to have\",\"wasn't\": \"was not\",\"we'd\": \"we would\",\n",
    "\"we'd've\": \"we would have\",\"we'll\": \"we will\",\"we'll've\": \"we will have\",\"we're\": \"we are\",\"we've\": \"we have\",\n",
    "\"weren't\": \"were not\",\"what'll\": \"what will\",\"what'll've\": \"what will have\",\"what're\": \"what are\",\n",
    "\"what've\": \"what have\",\"when've\": \"when have\",\"where'd\": \"where did\",\n",
    "\"where've\": \"where have\",\"who'll\": \"who will\",\"who'll've\": \"who will have\",\"who've\": \"who have\",\n",
    "\"why've\": \"why have\",\"will've\": \"will have\",\"won't\": \"will not\",\"won't've\": \"will not have\",\n",
    "\"would've\": \"would have\",\"wouldn't\": \"would not\",\"wouldn't've\": \"would not have\",\"y'all\": \"you all\",\n",
    "\"y'all'd\": \"you all would\",\"y'all'd've\": \"you all would have\",\"y'all're\": \"you all are\",\"y'all've\": \"you all have\",\n",
    "\"you'd\": \"you would\",\"you'd've\": \"you would have\",\"you'll\": \"you will\",\"you'll've\": \"you will have\",\n",
    "\"you're\": \"you are\",\"you've\": \"you have\"}"
   ]
  },
  {
   "cell_type": "code",
   "execution_count": 7,
   "id": "57de542b",
   "metadata": {
    "execution": {
     "iopub.execute_input": "2022-12-13T22:29:22.246831Z",
     "iopub.status.busy": "2022-12-13T22:29:22.246378Z",
     "iopub.status.idle": "2022-12-13T22:30:03.642446Z",
     "shell.execute_reply": "2022-12-13T22:30:03.641401Z"
    },
    "papermill": {
     "duration": 41.411979,
     "end_time": "2022-12-13T22:30:03.650628",
     "exception": false,
     "start_time": "2022-12-13T22:29:22.238649",
     "status": "completed"
    },
    "tags": []
   },
   "outputs": [
    {
     "name": "stderr",
     "output_type": "stream",
     "text": [
      "/opt/conda/lib/python3.7/site-packages/ipykernel_launcher.py:9: SettingWithCopyWarning: \n",
      "A value is trying to be set on a copy of a slice from a DataFrame.\n",
      "Try using .loc[row_indexer,col_indexer] = value instead\n",
      "\n",
      "See the caveats in the documentation: https://pandas.pydata.org/pandas-docs/stable/user_guide/indexing.html#returning-a-view-versus-a-copy\n",
      "  if __name__ == \"__main__\":\n",
      "/opt/conda/lib/python3.7/site-packages/ipykernel_launcher.py:10: SettingWithCopyWarning: \n",
      "A value is trying to be set on a copy of a slice from a DataFrame.\n",
      "Try using .loc[row_indexer,col_indexer] = value instead\n",
      "\n",
      "See the caveats in the documentation: https://pandas.pydata.org/pandas-docs/stable/user_guide/indexing.html#returning-a-view-versus-a-copy\n",
      "  # Remove the CWD from sys.path while we load stuff.\n",
      "/opt/conda/lib/python3.7/site-packages/ipykernel_launcher.py:12: SettingWithCopyWarning: \n",
      "A value is trying to be set on a copy of a slice from a DataFrame.\n",
      "Try using .loc[row_indexer,col_indexer] = value instead\n",
      "\n",
      "See the caveats in the documentation: https://pandas.pydata.org/pandas-docs/stable/user_guide/indexing.html#returning-a-view-versus-a-copy\n",
      "  if sys.path[0] == \"\":\n",
      "/opt/conda/lib/python3.7/site-packages/ipykernel_launcher.py:13: SettingWithCopyWarning: \n",
      "A value is trying to be set on a copy of a slice from a DataFrame.\n",
      "Try using .loc[row_indexer,col_indexer] = value instead\n",
      "\n",
      "See the caveats in the documentation: https://pandas.pydata.org/pandas-docs/stable/user_guide/indexing.html#returning-a-view-versus-a-copy\n",
      "  del sys.path[0]\n"
     ]
    }
   ],
   "source": [
    "contractions_re=re.compile('(%s)' % '|'.join(contractions_dict.keys()))\n",
    "\n",
    "# Function for expanding contractions\n",
    "def expand_contractions(text,contractions_dict=contractions_dict):\n",
    "    def replace(match):\n",
    "        return contractions_dict[match.group(0)]\n",
    "    return contractions_re.sub(replace, text)\n",
    "\n",
    "corpus_train['cleaned']=corpus_train['cleaned'].apply(lambda x:expand_contractions(x))\n",
    "corpus_test['cleaned']=corpus_test['cleaned'].apply(lambda x:expand_contractions(x))\n",
    "\n",
    "queries_train['cleaned']=queries_train['cleaned'].apply(lambda x:expand_contractions(x))\n",
    "queries_test['cleaned']=queries_test['cleaned'].apply(lambda x:expand_contractions(x))"
   ]
  },
  {
   "cell_type": "code",
   "execution_count": 8,
   "id": "e5378c98",
   "metadata": {
    "execution": {
     "iopub.execute_input": "2022-12-13T22:30:03.662472Z",
     "iopub.status.busy": "2022-12-13T22:30:03.661763Z",
     "iopub.status.idle": "2022-12-13T22:30:31.673621Z",
     "shell.execute_reply": "2022-12-13T22:30:31.672640Z"
    },
    "papermill": {
     "duration": 28.021004,
     "end_time": "2022-12-13T22:30:31.676810",
     "exception": false,
     "start_time": "2022-12-13T22:30:03.655806",
     "status": "completed"
    },
    "tags": []
   },
   "outputs": [
    {
     "name": "stderr",
     "output_type": "stream",
     "text": [
      "/opt/conda/lib/python3.7/site-packages/ipykernel_launcher.py:9: SettingWithCopyWarning: \n",
      "A value is trying to be set on a copy of a slice from a DataFrame.\n",
      "Try using .loc[row_indexer,col_indexer] = value instead\n",
      "\n",
      "See the caveats in the documentation: https://pandas.pydata.org/pandas-docs/stable/user_guide/indexing.html#returning-a-view-versus-a-copy\n",
      "  if __name__ == \"__main__\":\n",
      "/opt/conda/lib/python3.7/site-packages/ipykernel_launcher.py:10: SettingWithCopyWarning: \n",
      "A value is trying to be set on a copy of a slice from a DataFrame.\n",
      "Try using .loc[row_indexer,col_indexer] = value instead\n",
      "\n",
      "See the caveats in the documentation: https://pandas.pydata.org/pandas-docs/stable/user_guide/indexing.html#returning-a-view-versus-a-copy\n",
      "  # Remove the CWD from sys.path while we load stuff.\n",
      "/opt/conda/lib/python3.7/site-packages/ipykernel_launcher.py:12: SettingWithCopyWarning: \n",
      "A value is trying to be set on a copy of a slice from a DataFrame.\n",
      "Try using .loc[row_indexer,col_indexer] = value instead\n",
      "\n",
      "See the caveats in the documentation: https://pandas.pydata.org/pandas-docs/stable/user_guide/indexing.html#returning-a-view-versus-a-copy\n",
      "  if sys.path[0] == \"\":\n",
      "/opt/conda/lib/python3.7/site-packages/ipykernel_launcher.py:13: SettingWithCopyWarning: \n",
      "A value is trying to be set on a copy of a slice from a DataFrame.\n",
      "Try using .loc[row_indexer,col_indexer] = value instead\n",
      "\n",
      "See the caveats in the documentation: https://pandas.pydata.org/pandas-docs/stable/user_guide/indexing.html#returning-a-view-versus-a-copy\n",
      "  del sys.path[0]\n"
     ]
    }
   ],
   "source": [
    "def clean_text(text):\n",
    "    text=re.sub('\\w*\\d\\w*','', text)\n",
    "    text=re.sub('\\n',' ',text)\n",
    "    text=re.sub(r\"http\\S+\", \"\", text)\n",
    "    text=re.sub('[^a-z]',' ',text)\n",
    "    return text\n",
    " \n",
    "# Cleaning corpus using RegEx\n",
    "corpus_train['cleaned']=corpus_train['cleaned'].apply(lambda x: clean_text(x))\n",
    "corpus_test['cleaned']=corpus_test['cleaned'].apply(lambda x: clean_text(x))\n",
    "\n",
    "queries_train['cleaned'] = queries_train['cleaned'].apply(lambda x: clean_text(x))\n",
    "queries_test['cleaned'] = queries_test['cleaned'].apply(lambda x: clean_text(x))"
   ]
  },
  {
   "cell_type": "code",
   "execution_count": 9,
   "id": "835927b6",
   "metadata": {
    "execution": {
     "iopub.execute_input": "2022-12-13T22:30:31.689613Z",
     "iopub.status.busy": "2022-12-13T22:30:31.688940Z",
     "iopub.status.idle": "2022-12-13T22:30:38.995174Z",
     "shell.execute_reply": "2022-12-13T22:30:38.994180Z"
    },
    "papermill": {
     "duration": 7.315357,
     "end_time": "2022-12-13T22:30:38.997785",
     "exception": false,
     "start_time": "2022-12-13T22:30:31.682428",
     "status": "completed"
    },
    "tags": []
   },
   "outputs": [
    {
     "name": "stderr",
     "output_type": "stream",
     "text": [
      "/opt/conda/lib/python3.7/site-packages/ipykernel_launcher.py:1: SettingWithCopyWarning: \n",
      "A value is trying to be set on a copy of a slice from a DataFrame.\n",
      "Try using .loc[row_indexer,col_indexer] = value instead\n",
      "\n",
      "See the caveats in the documentation: https://pandas.pydata.org/pandas-docs/stable/user_guide/indexing.html#returning-a-view-versus-a-copy\n",
      "  \"\"\"Entry point for launching an IPython kernel.\n",
      "/opt/conda/lib/python3.7/site-packages/ipykernel_launcher.py:2: SettingWithCopyWarning: \n",
      "A value is trying to be set on a copy of a slice from a DataFrame.\n",
      "Try using .loc[row_indexer,col_indexer] = value instead\n",
      "\n",
      "See the caveats in the documentation: https://pandas.pydata.org/pandas-docs/stable/user_guide/indexing.html#returning-a-view-versus-a-copy\n",
      "  \n",
      "/opt/conda/lib/python3.7/site-packages/ipykernel_launcher.py:4: SettingWithCopyWarning: \n",
      "A value is trying to be set on a copy of a slice from a DataFrame.\n",
      "Try using .loc[row_indexer,col_indexer] = value instead\n",
      "\n",
      "See the caveats in the documentation: https://pandas.pydata.org/pandas-docs/stable/user_guide/indexing.html#returning-a-view-versus-a-copy\n",
      "  after removing the cwd from sys.path.\n",
      "/opt/conda/lib/python3.7/site-packages/ipykernel_launcher.py:5: SettingWithCopyWarning: \n",
      "A value is trying to be set on a copy of a slice from a DataFrame.\n",
      "Try using .loc[row_indexer,col_indexer] = value instead\n",
      "\n",
      "See the caveats in the documentation: https://pandas.pydata.org/pandas-docs/stable/user_guide/indexing.html#returning-a-view-versus-a-copy\n",
      "  \"\"\"\n"
     ]
    }
   ],
   "source": [
    "corpus_train['cleaned']=corpus_train['cleaned'].apply(lambda x: re.sub(' +',' ',x))\n",
    "corpus_test['cleaned']=corpus_test['cleaned'].apply(lambda x: re.sub(' +',' ',x))\n",
    "\n",
    "queries_test['cleaned']=queries_test['cleaned'].apply(lambda x: re.sub(' +',' ',x))\n",
    "queries_train['cleaned']=queries_train['cleaned'].apply(lambda x: re.sub(' +',' ',x))\n",
    "\n",
    "\n"
   ]
  },
  {
   "cell_type": "code",
   "execution_count": 10,
   "id": "9e3a7917",
   "metadata": {
    "execution": {
     "iopub.execute_input": "2022-12-13T22:30:39.010762Z",
     "iopub.status.busy": "2022-12-13T22:30:39.010454Z",
     "iopub.status.idle": "2022-12-13T22:30:39.087181Z",
     "shell.execute_reply": "2022-12-13T22:30:39.086040Z"
    },
    "papermill": {
     "duration": 0.086784,
     "end_time": "2022-12-13T22:30:39.089967",
     "exception": false,
     "start_time": "2022-12-13T22:30:39.003183",
     "status": "completed"
    },
    "tags": []
   },
   "outputs": [],
   "source": [
    "combined_training=pd.concat([corpus_train.rename(columns={'cleaned':'text'})['text'],\\\n",
    "                             queries_train.rename(columns={'cleaned':'text'})['text']])\\\n",
    "                             .sample(frac=1).reset_index(drop=True)"
   ]
  },
  {
   "cell_type": "code",
   "execution_count": 11,
   "id": "6afda342",
   "metadata": {
    "execution": {
     "iopub.execute_input": "2022-12-13T22:30:39.102460Z",
     "iopub.status.busy": "2022-12-13T22:30:39.102159Z",
     "iopub.status.idle": "2022-12-13T22:30:39.113480Z",
     "shell.execute_reply": "2022-12-13T22:30:39.112605Z"
    },
    "papermill": {
     "duration": 0.019837,
     "end_time": "2022-12-13T22:30:39.115426",
     "exception": false,
     "start_time": "2022-12-13T22:30:39.095589",
     "status": "completed"
    },
    "tags": []
   },
   "outputs": [
    {
     "data": {
      "text/html": [
       "<div>\n",
       "<style scoped>\n",
       "    .dataframe tbody tr th:only-of-type {\n",
       "        vertical-align: middle;\n",
       "    }\n",
       "\n",
       "    .dataframe tbody tr th {\n",
       "        vertical-align: top;\n",
       "    }\n",
       "\n",
       "    .dataframe thead th {\n",
       "        text-align: right;\n",
       "    }\n",
       "</style>\n",
       "<table border=\"1\" class=\"dataframe\">\n",
       "  <thead>\n",
       "    <tr style=\"text-align: right;\">\n",
       "      <th></th>\n",
       "      <th>text</th>\n",
       "      <th>text</th>\n",
       "    </tr>\n",
       "  </thead>\n",
       "  <tbody>\n",
       "    <tr>\n",
       "      <th>0</th>\n",
       "      <td></td>\n",
       "      <td></td>\n",
       "    </tr>\n",
       "    <tr>\n",
       "      <th>1</th>\n",
       "      <td>BACKGROUND: We hereby report on our experience...</td>\n",
       "      <td>background we hereby report on our experience ...</td>\n",
       "    </tr>\n",
       "    <tr>\n",
       "      <th>2</th>\n",
       "      <td>Background Respiratory syncytial virus (RSV)- ...</td>\n",
       "      <td>background respiratory syncytial virus rsv and...</td>\n",
       "    </tr>\n",
       "    <tr>\n",
       "      <th>3</th>\n",
       "      <td></td>\n",
       "      <td></td>\n",
       "    </tr>\n",
       "    <tr>\n",
       "      <th>4</th>\n",
       "      <td>The current pandemic caused by severe acute re...</td>\n",
       "      <td>the current pandemic caused by severe acute re...</td>\n",
       "    </tr>\n",
       "    <tr>\n",
       "      <th>5</th>\n",
       "      <td>We address the satisfiability of systems of po...</td>\n",
       "      <td>we address the satisfiability of systems of po...</td>\n",
       "    </tr>\n",
       "    <tr>\n",
       "      <th>6</th>\n",
       "      <td>Diathermy has revolutionised modern surgery an...</td>\n",
       "      <td>diathermy has revolutionised modern surgery an...</td>\n",
       "    </tr>\n",
       "    <tr>\n",
       "      <th>7</th>\n",
       "      <td></td>\n",
       "      <td></td>\n",
       "    </tr>\n",
       "    <tr>\n",
       "      <th>8</th>\n",
       "      <td>A 73-year-old man was confirmed to have an inf...</td>\n",
       "      <td>a year old man was confirmed to have an influe...</td>\n",
       "    </tr>\n",
       "    <tr>\n",
       "      <th>9</th>\n",
       "      <td></td>\n",
       "      <td></td>\n",
       "    </tr>\n",
       "  </tbody>\n",
       "</table>\n",
       "</div>"
      ],
      "text/plain": [
       "                                                text  \\\n",
       "0                                                      \n",
       "1  BACKGROUND: We hereby report on our experience...   \n",
       "2  Background Respiratory syncytial virus (RSV)- ...   \n",
       "3                                                      \n",
       "4  The current pandemic caused by severe acute re...   \n",
       "5  We address the satisfiability of systems of po...   \n",
       "6  Diathermy has revolutionised modern surgery an...   \n",
       "7                                                      \n",
       "8  A 73-year-old man was confirmed to have an inf...   \n",
       "9                                                      \n",
       "\n",
       "                                                text  \n",
       "0                                                     \n",
       "1  background we hereby report on our experience ...  \n",
       "2  background respiratory syncytial virus rsv and...  \n",
       "3                                                     \n",
       "4  the current pandemic caused by severe acute re...  \n",
       "5  we address the satisfiability of systems of po...  \n",
       "6  diathermy has revolutionised modern surgery an...  \n",
       "7                                                     \n",
       "8  a year old man was confirmed to have an influe...  \n",
       "9                                                     "
      ]
     },
     "execution_count": 11,
     "metadata": {},
     "output_type": "execute_result"
    }
   ],
   "source": [
    "combined_training.head(10)"
   ]
  },
  {
   "cell_type": "code",
   "execution_count": 12,
   "id": "bde88bfb",
   "metadata": {
    "execution": {
     "iopub.execute_input": "2022-12-13T22:30:39.127411Z",
     "iopub.status.busy": "2022-12-13T22:30:39.127145Z",
     "iopub.status.idle": "2022-12-13T22:30:39.131319Z",
     "shell.execute_reply": "2022-12-13T22:30:39.130321Z"
    },
    "papermill": {
     "duration": 0.012296,
     "end_time": "2022-12-13T22:30:39.133289",
     "exception": false,
     "start_time": "2022-12-13T22:30:39.120993",
     "status": "completed"
    },
    "tags": []
   },
   "outputs": [],
   "source": [
    "# tokenized_corpus = [doc.split(\" \")  for doc in combined_training]\n",
    "\n",
    "# bm25 = BM25Okapi(tokenized_corpus)"
   ]
  },
  {
   "cell_type": "code",
   "execution_count": 13,
   "id": "9fd99fdb",
   "metadata": {
    "execution": {
     "iopub.execute_input": "2022-12-13T22:30:39.146161Z",
     "iopub.status.busy": "2022-12-13T22:30:39.144747Z",
     "iopub.status.idle": "2022-12-13T22:30:39.501252Z",
     "shell.execute_reply": "2022-12-13T22:30:39.500181Z"
    },
    "papermill": {
     "duration": 0.365483,
     "end_time": "2022-12-13T22:30:39.504090",
     "exception": false,
     "start_time": "2022-12-13T22:30:39.138607",
     "status": "completed"
    },
    "tags": []
   },
   "outputs": [],
   "source": [
    "from gensim.models import Word2Vec\n",
    "\n",
    "# Creating data for the model training\n",
    "train_data=[]\n",
    "for i in combined_training:\n",
    "    train_data.append(i.split())\n",
    "\n",
    "# Training a word2vec model from the given data set\n",
    "model = Word2Vec(train_data, min_count=2,window=5, sg=1,workers=4)\n",
    "model.save(\"word2vec.model\")"
   ]
  },
  {
   "cell_type": "code",
   "execution_count": 14,
   "id": "511f4f70",
   "metadata": {
    "execution": {
     "iopub.execute_input": "2022-12-13T22:30:39.517510Z",
     "iopub.status.busy": "2022-12-13T22:30:39.517234Z",
     "iopub.status.idle": "2022-12-13T22:31:59.842234Z",
     "shell.execute_reply": "2022-12-13T22:31:59.841230Z"
    },
    "papermill": {
     "duration": 80.339851,
     "end_time": "2022-12-13T22:31:59.850246",
     "exception": false,
     "start_time": "2022-12-13T22:30:39.510395",
     "status": "completed"
    },
    "tags": []
   },
   "outputs": [
    {
     "name": "stderr",
     "output_type": "stream",
     "text": [
      "/opt/conda/lib/python3.7/site-packages/ipykernel_launcher.py:16: SettingWithCopyWarning: \n",
      "A value is trying to be set on a copy of a slice from a DataFrame.\n",
      "Try using .loc[row_indexer,col_indexer] = value instead\n",
      "\n",
      "See the caveats in the documentation: https://pandas.pydata.org/pandas-docs/stable/user_guide/indexing.html#returning-a-view-versus-a-copy\n",
      "  \n",
      "/opt/conda/lib/python3.7/site-packages/ipykernel_launcher.py:17: SettingWithCopyWarning: \n",
      "A value is trying to be set on a copy of a slice from a DataFrame.\n",
      "Try using .loc[row_indexer,col_indexer] = value instead\n",
      "\n",
      "See the caveats in the documentation: https://pandas.pydata.org/pandas-docs/stable/user_guide/indexing.html#returning-a-view-versus-a-copy\n",
      "  app.launch_new_instance()\n"
     ]
    }
   ],
   "source": [
    "# Function returning vector reperesentation of a document\n",
    "def get_embedding_w2v(doc_tokens):\n",
    "    embeddings = []\n",
    "    if len(doc_tokens)<1:\n",
    "        return np.zeros(100)\n",
    "    else:\n",
    "        for tok in doc_tokens:\n",
    "            if tok in model.wv.index_to_key:\n",
    "                embeddings.append(model.wv.get_vector(tok))\n",
    "            else:\n",
    "                embeddings.append(np.random.rand(100))\n",
    "        # mean the vectors of individual words to get the vector of the document\n",
    "        return np.mean(embeddings, axis=0)\n",
    "\n",
    "# Getting Word2Vec Vectors for Testing Corpus and Queries\n",
    "corpus_test['vec']=corpus.text.apply(lambda x :get_embedding_w2v(x.split()))\n",
    "queries_test['vec']=queries.text.apply(lambda x :get_embedding_w2v(x.split()))"
   ]
  },
  {
   "cell_type": "code",
   "execution_count": 15,
   "id": "a0332b65",
   "metadata": {
    "execution": {
     "iopub.execute_input": "2022-12-13T22:31:59.864008Z",
     "iopub.status.busy": "2022-12-13T22:31:59.862375Z",
     "iopub.status.idle": "2022-12-13T22:31:59.870080Z",
     "shell.execute_reply": "2022-12-13T22:31:59.869132Z"
    },
    "papermill": {
     "duration": 0.016228,
     "end_time": "2022-12-13T22:31:59.872007",
     "exception": false,
     "start_time": "2022-12-13T22:31:59.855779",
     "status": "completed"
    },
    "tags": []
   },
   "outputs": [],
   "source": [
    "def ranking_ir(query):\n",
    "  \n",
    "  # pre-process Query\n",
    "  query=query.lower()\n",
    "  query=re.sub(' +',' ',query)\n",
    "\n",
    "  # generating vector\n",
    "  vector=get_embedding_w2v(query.split())\n",
    "\n",
    "  # ranking documents\n",
    "  documents = corpus_test\n",
    "  documents['similarity']=corpus_test['vec'].apply(lambda x: cosine_similarity(np.array(vector).reshape(1, -1),np.array(x).reshape(1, -1)).item())\n",
    "  documents.sort_values(by='similarity',ascending=False,inplace=True)\n",
    "  documents=documents.drop(columns='text')\n",
    "  documents=documents.drop(columns='title')\n",
    "  documents=documents.drop(columns='cleaned')\n",
    "  documents=documents.drop(columns='vec')\n",
    "  return documents.head(10)"
   ]
  },
  {
   "cell_type": "code",
   "execution_count": 16,
   "id": "e38f7c4e",
   "metadata": {
    "execution": {
     "iopub.execute_input": "2022-12-13T22:31:59.883947Z",
     "iopub.status.busy": "2022-12-13T22:31:59.883648Z",
     "iopub.status.idle": "2022-12-13T22:32:09.116473Z",
     "shell.execute_reply": "2022-12-13T22:32:09.115256Z"
    },
    "papermill": {
     "duration": 9.241371,
     "end_time": "2022-12-13T22:32:09.118766",
     "exception": false,
     "start_time": "2022-12-13T22:31:59.877395",
     "status": "completed"
    },
    "tags": []
   },
   "outputs": [
    {
     "name": "stderr",
     "output_type": "stream",
     "text": [
      "/opt/conda/lib/python3.7/site-packages/ipykernel_launcher.py:12: SettingWithCopyWarning: \n",
      "A value is trying to be set on a copy of a slice from a DataFrame.\n",
      "Try using .loc[row_indexer,col_indexer] = value instead\n",
      "\n",
      "See the caveats in the documentation: https://pandas.pydata.org/pandas-docs/stable/user_guide/indexing.html#returning-a-view-versus-a-copy\n",
      "  if sys.path[0] == \"\":\n",
      "/opt/conda/lib/python3.7/site-packages/pandas/util/_decorators.py:311: SettingWithCopyWarning: \n",
      "A value is trying to be set on a copy of a slice from a DataFrame\n",
      "\n",
      "See the caveats in the documentation: https://pandas.pydata.org/pandas-docs/stable/user_guide/indexing.html#returning-a-view-versus-a-copy\n",
      "  return func(*args, **kwargs)\n"
     ]
    },
    {
     "data": {
      "text/html": [
       "<div>\n",
       "<style scoped>\n",
       "    .dataframe tbody tr th:only-of-type {\n",
       "        vertical-align: middle;\n",
       "    }\n",
       "\n",
       "    .dataframe tbody tr th {\n",
       "        vertical-align: top;\n",
       "    }\n",
       "\n",
       "    .dataframe thead th {\n",
       "        text-align: right;\n",
       "    }\n",
       "</style>\n",
       "<table border=\"1\" class=\"dataframe\">\n",
       "  <thead>\n",
       "    <tr style=\"text-align: right;\">\n",
       "      <th></th>\n",
       "      <th>_id</th>\n",
       "      <th>similarity</th>\n",
       "    </tr>\n",
       "  </thead>\n",
       "  <tbody>\n",
       "    <tr>\n",
       "      <th>156790</th>\n",
       "      <td>j63cpzj2</td>\n",
       "      <td>0.989475</td>\n",
       "    </tr>\n",
       "    <tr>\n",
       "      <th>171304</th>\n",
       "      <td>vos341i1</td>\n",
       "      <td>0.989473</td>\n",
       "    </tr>\n",
       "    <tr>\n",
       "      <th>149197</th>\n",
       "      <td>nb4437qs</td>\n",
       "      <td>0.989473</td>\n",
       "    </tr>\n",
       "    <tr>\n",
       "      <th>167356</th>\n",
       "      <td>7hkowm2y</td>\n",
       "      <td>0.989116</td>\n",
       "    </tr>\n",
       "    <tr>\n",
       "      <th>143123</th>\n",
       "      <td>uvhc50qc</td>\n",
       "      <td>0.989064</td>\n",
       "    </tr>\n",
       "    <tr>\n",
       "      <th>148172</th>\n",
       "      <td>wk3fh9ke</td>\n",
       "      <td>0.989013</td>\n",
       "    </tr>\n",
       "    <tr>\n",
       "      <th>159605</th>\n",
       "      <td>bjhdy8mg</td>\n",
       "      <td>0.989002</td>\n",
       "    </tr>\n",
       "    <tr>\n",
       "      <th>136716</th>\n",
       "      <td>ixgz4e7k</td>\n",
       "      <td>0.988962</td>\n",
       "    </tr>\n",
       "    <tr>\n",
       "      <th>138418</th>\n",
       "      <td>qk0cyee2</td>\n",
       "      <td>0.988939</td>\n",
       "    </tr>\n",
       "    <tr>\n",
       "      <th>156641</th>\n",
       "      <td>8kktbmp2</td>\n",
       "      <td>0.988929</td>\n",
       "    </tr>\n",
       "  </tbody>\n",
       "</table>\n",
       "</div>"
      ],
      "text/plain": [
       "             _id  similarity\n",
       "156790  j63cpzj2    0.989475\n",
       "171304  vos341i1    0.989473\n",
       "149197  nb4437qs    0.989473\n",
       "167356  7hkowm2y    0.989116\n",
       "143123  uvhc50qc    0.989064\n",
       "148172  wk3fh9ke    0.989013\n",
       "159605  bjhdy8mg    0.989002\n",
       "136716  ixgz4e7k    0.988962\n",
       "138418  qk0cyee2    0.988939\n",
       "156641  8kktbmp2    0.988929"
      ]
     },
     "execution_count": 16,
     "metadata": {},
     "output_type": "execute_result"
    }
   ],
   "source": [
    "ranking_ir(queries_test.text.iloc[0])"
   ]
  },
  {
   "cell_type": "code",
   "execution_count": 17,
   "id": "0e86214a",
   "metadata": {
    "execution": {
     "iopub.execute_input": "2022-12-13T22:32:09.133681Z",
     "iopub.status.busy": "2022-12-13T22:32:09.133355Z",
     "iopub.status.idle": "2022-12-13T22:33:57.735373Z",
     "shell.execute_reply": "2022-12-13T22:33:57.732751Z"
    },
    "papermill": {
     "duration": 108.612463,
     "end_time": "2022-12-13T22:33:57.737743",
     "exception": false,
     "start_time": "2022-12-13T22:32:09.125280",
     "status": "completed"
    },
    "tags": []
   },
   "outputs": [
    {
     "name": "stderr",
     "output_type": "stream",
     "text": [
      "/opt/conda/lib/python3.7/site-packages/ipykernel_launcher.py:12: SettingWithCopyWarning: \n",
      "A value is trying to be set on a copy of a slice from a DataFrame.\n",
      "Try using .loc[row_indexer,col_indexer] = value instead\n",
      "\n",
      "See the caveats in the documentation: https://pandas.pydata.org/pandas-docs/stable/user_guide/indexing.html#returning-a-view-versus-a-copy\n",
      "  if sys.path[0] == \"\":\n",
      "/opt/conda/lib/python3.7/site-packages/pandas/util/_decorators.py:311: SettingWithCopyWarning: \n",
      "A value is trying to be set on a copy of a slice from a DataFrame\n",
      "\n",
      "See the caveats in the documentation: https://pandas.pydata.org/pandas-docs/stable/user_guide/indexing.html#returning-a-view-versus-a-copy\n",
      "  return func(*args, **kwargs)\n",
      "/opt/conda/lib/python3.7/site-packages/ipykernel_launcher.py:12: SettingWithCopyWarning: \n",
      "A value is trying to be set on a copy of a slice from a DataFrame.\n",
      "Try using .loc[row_indexer,col_indexer] = value instead\n",
      "\n",
      "See the caveats in the documentation: https://pandas.pydata.org/pandas-docs/stable/user_guide/indexing.html#returning-a-view-versus-a-copy\n",
      "  if sys.path[0] == \"\":\n",
      "/opt/conda/lib/python3.7/site-packages/pandas/util/_decorators.py:311: SettingWithCopyWarning: \n",
      "A value is trying to be set on a copy of a slice from a DataFrame\n",
      "\n",
      "See the caveats in the documentation: https://pandas.pydata.org/pandas-docs/stable/user_guide/indexing.html#returning-a-view-versus-a-copy\n",
      "  return func(*args, **kwargs)\n",
      "/opt/conda/lib/python3.7/site-packages/ipykernel_launcher.py:12: SettingWithCopyWarning: \n",
      "A value is trying to be set on a copy of a slice from a DataFrame.\n",
      "Try using .loc[row_indexer,col_indexer] = value instead\n",
      "\n",
      "See the caveats in the documentation: https://pandas.pydata.org/pandas-docs/stable/user_guide/indexing.html#returning-a-view-versus-a-copy\n",
      "  if sys.path[0] == \"\":\n",
      "/opt/conda/lib/python3.7/site-packages/pandas/util/_decorators.py:311: SettingWithCopyWarning: \n",
      "A value is trying to be set on a copy of a slice from a DataFrame\n",
      "\n",
      "See the caveats in the documentation: https://pandas.pydata.org/pandas-docs/stable/user_guide/indexing.html#returning-a-view-versus-a-copy\n",
      "  return func(*args, **kwargs)\n",
      "/opt/conda/lib/python3.7/site-packages/ipykernel_launcher.py:12: SettingWithCopyWarning: \n",
      "A value is trying to be set on a copy of a slice from a DataFrame.\n",
      "Try using .loc[row_indexer,col_indexer] = value instead\n",
      "\n",
      "See the caveats in the documentation: https://pandas.pydata.org/pandas-docs/stable/user_guide/indexing.html#returning-a-view-versus-a-copy\n",
      "  if sys.path[0] == \"\":\n",
      "/opt/conda/lib/python3.7/site-packages/pandas/util/_decorators.py:311: SettingWithCopyWarning: \n",
      "A value is trying to be set on a copy of a slice from a DataFrame\n",
      "\n",
      "See the caveats in the documentation: https://pandas.pydata.org/pandas-docs/stable/user_guide/indexing.html#returning-a-view-versus-a-copy\n",
      "  return func(*args, **kwargs)\n",
      "/opt/conda/lib/python3.7/site-packages/ipykernel_launcher.py:12: SettingWithCopyWarning: \n",
      "A value is trying to be set on a copy of a slice from a DataFrame.\n",
      "Try using .loc[row_indexer,col_indexer] = value instead\n",
      "\n",
      "See the caveats in the documentation: https://pandas.pydata.org/pandas-docs/stable/user_guide/indexing.html#returning-a-view-versus-a-copy\n",
      "  if sys.path[0] == \"\":\n",
      "/opt/conda/lib/python3.7/site-packages/pandas/util/_decorators.py:311: SettingWithCopyWarning: \n",
      "A value is trying to be set on a copy of a slice from a DataFrame\n",
      "\n",
      "See the caveats in the documentation: https://pandas.pydata.org/pandas-docs/stable/user_guide/indexing.html#returning-a-view-versus-a-copy\n",
      "  return func(*args, **kwargs)\n",
      "/opt/conda/lib/python3.7/site-packages/ipykernel_launcher.py:12: SettingWithCopyWarning: \n",
      "A value is trying to be set on a copy of a slice from a DataFrame.\n",
      "Try using .loc[row_indexer,col_indexer] = value instead\n",
      "\n",
      "See the caveats in the documentation: https://pandas.pydata.org/pandas-docs/stable/user_guide/indexing.html#returning-a-view-versus-a-copy\n",
      "  if sys.path[0] == \"\":\n",
      "/opt/conda/lib/python3.7/site-packages/pandas/util/_decorators.py:311: SettingWithCopyWarning: \n",
      "A value is trying to be set on a copy of a slice from a DataFrame\n",
      "\n",
      "See the caveats in the documentation: https://pandas.pydata.org/pandas-docs/stable/user_guide/indexing.html#returning-a-view-versus-a-copy\n",
      "  return func(*args, **kwargs)\n",
      "/opt/conda/lib/python3.7/site-packages/ipykernel_launcher.py:12: SettingWithCopyWarning: \n",
      "A value is trying to be set on a copy of a slice from a DataFrame.\n",
      "Try using .loc[row_indexer,col_indexer] = value instead\n",
      "\n",
      "See the caveats in the documentation: https://pandas.pydata.org/pandas-docs/stable/user_guide/indexing.html#returning-a-view-versus-a-copy\n",
      "  if sys.path[0] == \"\":\n",
      "/opt/conda/lib/python3.7/site-packages/pandas/util/_decorators.py:311: SettingWithCopyWarning: \n",
      "A value is trying to be set on a copy of a slice from a DataFrame\n",
      "\n",
      "See the caveats in the documentation: https://pandas.pydata.org/pandas-docs/stable/user_guide/indexing.html#returning-a-view-versus-a-copy\n",
      "  return func(*args, **kwargs)\n",
      "/opt/conda/lib/python3.7/site-packages/ipykernel_launcher.py:12: SettingWithCopyWarning: \n",
      "A value is trying to be set on a copy of a slice from a DataFrame.\n",
      "Try using .loc[row_indexer,col_indexer] = value instead\n",
      "\n",
      "See the caveats in the documentation: https://pandas.pydata.org/pandas-docs/stable/user_guide/indexing.html#returning-a-view-versus-a-copy\n",
      "  if sys.path[0] == \"\":\n",
      "/opt/conda/lib/python3.7/site-packages/pandas/util/_decorators.py:311: SettingWithCopyWarning: \n",
      "A value is trying to be set on a copy of a slice from a DataFrame\n",
      "\n",
      "See the caveats in the documentation: https://pandas.pydata.org/pandas-docs/stable/user_guide/indexing.html#returning-a-view-versus-a-copy\n",
      "  return func(*args, **kwargs)\n",
      "/opt/conda/lib/python3.7/site-packages/ipykernel_launcher.py:12: SettingWithCopyWarning: \n",
      "A value is trying to be set on a copy of a slice from a DataFrame.\n",
      "Try using .loc[row_indexer,col_indexer] = value instead\n",
      "\n",
      "See the caveats in the documentation: https://pandas.pydata.org/pandas-docs/stable/user_guide/indexing.html#returning-a-view-versus-a-copy\n",
      "  if sys.path[0] == \"\":\n",
      "/opt/conda/lib/python3.7/site-packages/pandas/util/_decorators.py:311: SettingWithCopyWarning: \n",
      "A value is trying to be set on a copy of a slice from a DataFrame\n",
      "\n",
      "See the caveats in the documentation: https://pandas.pydata.org/pandas-docs/stable/user_guide/indexing.html#returning-a-view-versus-a-copy\n",
      "  return func(*args, **kwargs)\n",
      "/opt/conda/lib/python3.7/site-packages/ipykernel_launcher.py:12: SettingWithCopyWarning: \n",
      "A value is trying to be set on a copy of a slice from a DataFrame.\n",
      "Try using .loc[row_indexer,col_indexer] = value instead\n",
      "\n",
      "See the caveats in the documentation: https://pandas.pydata.org/pandas-docs/stable/user_guide/indexing.html#returning-a-view-versus-a-copy\n",
      "  if sys.path[0] == \"\":\n",
      "/opt/conda/lib/python3.7/site-packages/pandas/util/_decorators.py:311: SettingWithCopyWarning: \n",
      "A value is trying to be set on a copy of a slice from a DataFrame\n",
      "\n",
      "See the caveats in the documentation: https://pandas.pydata.org/pandas-docs/stable/user_guide/indexing.html#returning-a-view-versus-a-copy\n",
      "  return func(*args, **kwargs)\n",
      "/opt/conda/lib/python3.7/site-packages/ipykernel_launcher.py:12: SettingWithCopyWarning: \n",
      "A value is trying to be set on a copy of a slice from a DataFrame.\n",
      "Try using .loc[row_indexer,col_indexer] = value instead\n",
      "\n",
      "See the caveats in the documentation: https://pandas.pydata.org/pandas-docs/stable/user_guide/indexing.html#returning-a-view-versus-a-copy\n",
      "  if sys.path[0] == \"\":\n",
      "/opt/conda/lib/python3.7/site-packages/pandas/util/_decorators.py:311: SettingWithCopyWarning: \n",
      "A value is trying to be set on a copy of a slice from a DataFrame\n",
      "\n",
      "See the caveats in the documentation: https://pandas.pydata.org/pandas-docs/stable/user_guide/indexing.html#returning-a-view-versus-a-copy\n",
      "  return func(*args, **kwargs)\n",
      "/opt/conda/lib/python3.7/site-packages/ipykernel_launcher.py:12: SettingWithCopyWarning: \n",
      "A value is trying to be set on a copy of a slice from a DataFrame.\n",
      "Try using .loc[row_indexer,col_indexer] = value instead\n",
      "\n",
      "See the caveats in the documentation: https://pandas.pydata.org/pandas-docs/stable/user_guide/indexing.html#returning-a-view-versus-a-copy\n",
      "  if sys.path[0] == \"\":\n",
      "/opt/conda/lib/python3.7/site-packages/pandas/util/_decorators.py:311: SettingWithCopyWarning: \n",
      "A value is trying to be set on a copy of a slice from a DataFrame\n",
      "\n",
      "See the caveats in the documentation: https://pandas.pydata.org/pandas-docs/stable/user_guide/indexing.html#returning-a-view-versus-a-copy\n",
      "  return func(*args, **kwargs)\n",
      "/opt/conda/lib/python3.7/site-packages/ipykernel_launcher.py:12: SettingWithCopyWarning: \n",
      "A value is trying to be set on a copy of a slice from a DataFrame.\n",
      "Try using .loc[row_indexer,col_indexer] = value instead\n",
      "\n",
      "See the caveats in the documentation: https://pandas.pydata.org/pandas-docs/stable/user_guide/indexing.html#returning-a-view-versus-a-copy\n",
      "  if sys.path[0] == \"\":\n",
      "/opt/conda/lib/python3.7/site-packages/pandas/util/_decorators.py:311: SettingWithCopyWarning: \n",
      "A value is trying to be set on a copy of a slice from a DataFrame\n",
      "\n",
      "See the caveats in the documentation: https://pandas.pydata.org/pandas-docs/stable/user_guide/indexing.html#returning-a-view-versus-a-copy\n",
      "  return func(*args, **kwargs)\n"
     ]
    }
   ],
   "source": [
    "ranks = []\n",
    "for query in queries_test.text:\n",
    "    ranks.append(ranking_ir(query).values.tolist())"
   ]
  },
  {
   "cell_type": "code",
   "execution_count": 18,
   "id": "33685460",
   "metadata": {
    "execution": {
     "iopub.execute_input": "2022-12-13T22:33:57.753621Z",
     "iopub.status.busy": "2022-12-13T22:33:57.752157Z",
     "iopub.status.idle": "2022-12-13T22:33:57.758735Z",
     "shell.execute_reply": "2022-12-13T22:33:57.757863Z"
    },
    "papermill": {
     "duration": 0.016137,
     "end_time": "2022-12-13T22:33:57.760562",
     "exception": false,
     "start_time": "2022-12-13T22:33:57.744425",
     "status": "completed"
    },
    "tags": []
   },
   "outputs": [],
   "source": [
    "import json\n",
    "with open('output.txt', 'w') as filehandle:\n",
    "    json.dump(ranks, filehandle)"
   ]
  },
  {
   "cell_type": "code",
   "execution_count": null,
   "id": "cdeff62d",
   "metadata": {
    "papermill": {
     "duration": 0.006179,
     "end_time": "2022-12-13T22:33:57.773256",
     "exception": false,
     "start_time": "2022-12-13T22:33:57.767077",
     "status": "completed"
    },
    "tags": []
   },
   "outputs": [],
   "source": []
  }
 ],
 "metadata": {
  "kernelspec": {
   "display_name": "Python 3",
   "language": "python",
   "name": "python3"
  },
  "language_info": {
   "codemirror_mode": {
    "name": "ipython",
    "version": 3
   },
   "file_extension": ".py",
   "mimetype": "text/x-python",
   "name": "python",
   "nbconvert_exporter": "python",
   "pygments_lexer": "ipython3",
   "version": "3.7.12"
  },
  "papermill": {
   "default_parameters": {},
   "duration": 310.769263,
   "end_time": "2022-12-13T22:33:59.202758",
   "environment_variables": {},
   "exception": null,
   "input_path": "__notebook__.ipynb",
   "output_path": "__notebook__.ipynb",
   "parameters": {},
   "start_time": "2022-12-13T22:28:48.433495",
   "version": "2.3.4"
  }
 },
 "nbformat": 4,
 "nbformat_minor": 5
}
